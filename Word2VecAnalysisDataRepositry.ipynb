{
  "nbformat": 4,
  "nbformat_minor": 0,
  "metadata": {
    "colab": {
      "name": " Word2VecAnalysisDataRepositry",
      "provenance": [],
      "collapsed_sections": []
    },
    "kernelspec": {
      "name": "python3",
      "display_name": "Python 3"
    }
  },
  "cells": [
    {
      "cell_type": "markdown",
      "metadata": {
        "id": "w3jtrkpfNimZ"
      },
      "source": [
        "# _American is to depression as Irish is to alcoholism: Artificial Intelligence in mental health and the biases of language based models._\n",
        "## by Isabel Straw and Chris Callison-Burch\n",
        "## __Under Submission at PLOS One__"
      ]
    },
    {
      "cell_type": "markdown",
      "metadata": {
        "id": "lOBtfQk3N5ES"
      },
      "source": [
        "## How to use this Python Notebook\n",
        "\n",
        "This is a Python notebook, which you can run on Google's cloud for free.  It contains comments, code, and the output of code. We have pre-run the notebook, so that you can see the output of each code cell.  You will see a snippet of Python (in gray colored, prefixed with two square brackets [ ] that if you move your mouse above, you'll see a play button to re-run the cell).  Immedaitely after a Python cell, you'll see its output.\n",
        "\n",
        "If you would like to, you can run this code, even if you only have limited experience with Python. To do so,\n",
        "1. From the _File_ Menu, pick _Save a Copy in Drive ..._ This will save a copy to your Google Drive.\n",
        "2. From the _Runtime_ menu, pick _Run all_.  This will run all of the Python code on Google's cloud, and show the results in the notebook below.\n",
        "\n",
        "\n"
      ]
    },
    {
      "cell_type": "markdown",
      "metadata": {
        "id": "u1-Z0dNGsCcx"
      },
      "source": [
        "## Introduction\n",
        "\n",
        "The following code demonstrates the vector analogies that were run on the Word2Vec embeddings that are described in Section 3.0 of our manuscript.\n",
        "\n",
        "To do maipulate word embeddings, we install a word vector Package called Magnitude onto Google CoLab. This step will take several minutes, because we are downloading a large file containing word emdeddings that were pre-trained trained on Google News.\n"
      ]
    },
    {
      "cell_type": "code",
      "metadata": {
        "id": "omSJkK9esCua",
        "outputId": "c19ab09d-45f2-43c0-fd1b-9a5d1d195091",
        "colab": {
          "base_uri": "https://localhost:8080/",
          "height": 394
        }
      },
      "source": [
        "!pip3 install pymagnitude==0.1.120\n",
        "\n",
        "import os.path\n",
        "from os import path\n",
        "if not path.exists(\"GoogleNews-vectors-negative300.magnitude\"):\n",
        "  !wget http://magnitude.plasticity.ai/word2vec/medium/GoogleNews-vectors-negative300.magnitude\n",
        "\n",
        "from pymagnitude import *\n",
        "#vectors = Magnitude(\"wordvec.6B.300d.magnitude\")\n",
        "vectors = Magnitude(\"GoogleNews-vectors-negative300.magnitude\")"
      ],
      "execution_count": null,
      "outputs": [
        {
          "output_type": "stream",
          "text": [
            "Collecting pymagnitude==0.1.120\n",
            "\u001b[?25l  Downloading https://files.pythonhosted.org/packages/0a/a3/b9a34d22ed8c0ed59b00ff55092129641cdfa09d82f9abdc5088051a5b0c/pymagnitude-0.1.120.tar.gz (5.4MB)\n",
            "\u001b[K     |████████████████████████████████| 5.4MB 2.6MB/s \n",
            "\u001b[?25hBuilding wheels for collected packages: pymagnitude\n",
            "  Building wheel for pymagnitude (setup.py) ... \u001b[?25l\u001b[?25hdone\n",
            "  Created wheel for pymagnitude: filename=pymagnitude-0.1.120-cp36-cp36m-linux_x86_64.whl size=135918206 sha256=1f147a432dee3901bc11deb8231f2297da682a60fb9e4b0f2d859d53c8770828\n",
            "  Stored in directory: /root/.cache/pip/wheels/a2/c7/98/cb48b9db35f8d1a7827b764dc36c5515179dc116448a47c8a1\n",
            "Successfully built pymagnitude\n",
            "Installing collected packages: pymagnitude\n",
            "Successfully installed pymagnitude-0.1.120\n",
            "--2020-07-08 13:50:04--  http://magnitude.plasticity.ai/word2vec/medium/GoogleNews-vectors-negative300.magnitude\n",
            "Resolving magnitude.plasticity.ai (magnitude.plasticity.ai)... 52.217.47.51\n",
            "Connecting to magnitude.plasticity.ai (magnitude.plasticity.ai)|52.217.47.51|:80... connected.\n",
            "HTTP request sent, awaiting response... 200 OK\n",
            "Length: 5295644672 (4.9G) [binary/octet-stream]\n",
            "Saving to: ‘GoogleNews-vectors-negative300.magnitude’\n",
            "\n",
            "GoogleNews-vectors- 100%[===================>]   4.93G  46.2MB/s    in 1m 48s  \n",
            "\n",
            "2020-07-08 13:51:53 (46.6 MB/s) - ‘GoogleNews-vectors-negative300.magnitude’ saved [5295644672/5295644672]\n",
            "\n"
          ],
          "name": "stdout"
        }
      ]
    },
    {
      "cell_type": "markdown",
      "metadata": {
        "id": "GJws_oVYPT_6"
      },
      "source": [
        "This command shows the length of the word vectors.  They are distributed across 300 dimensions."
      ]
    },
    {
      "cell_type": "code",
      "metadata": {
        "id": "sUP4mx43NlAm",
        "outputId": "f47c2435-5ae2-4bee-964a-d7c96c901556",
        "colab": {
          "base_uri": "https://localhost:8080/",
          "height": 34
        }
      },
      "source": [
        "vectors.dim"
      ],
      "execution_count": null,
      "outputs": [
        {
          "output_type": "execute_result",
          "data": {
            "text/plain": [
              "300"
            ]
          },
          "metadata": {
            "tags": []
          },
          "execution_count": 2
        }
      ]
    },
    {
      "cell_type": "markdown",
      "metadata": {
        "id": "eh6I-4eBPRRo"
      },
      "source": [
        "This shows the vector representation for the word \"depression\".  It consists of 300 numbers."
      ]
    },
    {
      "cell_type": "code",
      "metadata": {
        "id": "mZnbrmThOBki",
        "outputId": "6e11f4af-a1f9-496c-b34f-fc5578fab72a",
        "colab": {
          "base_uri": "https://localhost:8080/",
          "height": 1000
        }
      },
      "source": [
        "vectors.query(\"depression\")"
      ],
      "execution_count": null,
      "outputs": [
        {
          "output_type": "execute_result",
          "data": {
            "text/plain": [
              "array([-3.802620e-02, -5.345050e-02, -1.301139e-01,  7.819050e-02,\n",
              "        2.703070e-02,  7.024930e-02, -2.611440e-02, -2.565630e-02,\n",
              "        9.224040e-02, -8.491000e-02,  3.779700e-03, -1.093445e-01,\n",
              "        4.612020e-02,  1.240053e-01,  4.703650e-02,  1.130097e-01,\n",
              "        3.145950e-02,  6.627870e-02,  7.299820e-02, -8.552090e-02,\n",
              "        2.977960e-02, -4.001160e-02,  2.657260e-02, -1.130097e-01,\n",
              "       -8.323000e-03, -4.153870e-02,  4.619700e-03,  4.092780e-02,\n",
              "       -2.825240e-02, -6.037000e-04, -1.154532e-01, -1.336260e-02,\n",
              "        5.688700e-03, -5.742120e-02, -9.773810e-02, -4.489850e-02,\n",
              "       -8.918610e-02, -3.145950e-02, -2.382370e-02, -6.032300e-03,\n",
              "        2.641980e-02, -7.826700e-03,  1.527160e-02, -1.264487e-01,\n",
              "        2.000580e-02,  5.268700e-03,  2.159000e-04, -2.046390e-02,\n",
              "       -1.014033e-01, -1.420260e-02, -6.688950e-02,  3.313930e-02,\n",
              "       -1.521050e-01, -2.519810e-02,  8.918610e-02, -1.603520e-02,\n",
              "       -1.050685e-01,  5.833750e-02, -1.458440e-02, -1.166749e-01,\n",
              "       -1.542430e-02,  8.002310e-02, -8.781200e-03,  2.519800e-03,\n",
              "        1.469900e-03,  9.468380e-02,  7.116560e-02,  1.397350e-02,\n",
              "        2.321280e-02,  1.481340e-02, -1.672240e-02, -7.880140e-02,\n",
              "        7.360900e-02, -1.084280e-02, -1.771500e-02, -6.139180e-02,\n",
              "        7.208190e-02,  5.497770e-02, -5.803200e-02,  9.529470e-02,\n",
              "        2.825200e-03, -1.382080e-02, -4.337130e-02, -8.185570e-02,\n",
              "        8.666600e-03,  3.481920e-02, -2.653400e-03,  2.932140e-02,\n",
              "       -3.176490e-02, -1.081228e-01, -9.407300e-02, -4.581480e-02,\n",
              "       -6.230810e-02,  4.673110e-02, -2.046390e-02, -8.857500e-03,\n",
              "        2.015849e-01, -2.962690e-02,  5.345050e-02,  5.955920e-02,\n",
              "        7.055470e-02,  8.246700e-03,  4.825820e-02, -1.527160e-02,\n",
              "        1.093445e-01, -5.406140e-02, -1.038468e-01, -4.638700e-03,\n",
              "        4.123330e-02, -3.008500e-02, -2.321280e-02, -1.061380e-02,\n",
              "        5.253430e-02, -9.590550e-02,  6.688950e-02,  5.512000e-04,\n",
              "       -4.428760e-02, -2.382370e-02,  2.657260e-02,  7.880140e-02,\n",
              "       -6.750040e-02,  3.787350e-02, -4.001160e-02, -2.733610e-02,\n",
              "       -1.893680e-02, -1.056794e-01,  3.329210e-02, -2.565630e-02,\n",
              "        6.750040e-02,  5.772660e-02, -2.462500e-03, -6.078090e-02,\n",
              "       -7.086020e-02,  2.321280e-02,  5.488000e-04, -2.840510e-02,\n",
              "       -2.993230e-02,  4.184410e-02,  1.550070e-02,  2.825240e-02,\n",
              "       -4.917450e-02, -2.153290e-02, -7.819050e-02, -2.275470e-02,\n",
              "       -1.130100e-02, -4.978540e-02, -8.613170e-02,  1.203401e-01,\n",
              "       -4.489850e-02, -1.496620e-02,  5.894830e-02, -4.520390e-02,\n",
              "        3.466650e-02,  1.166749e-01, -6.047550e-02, -3.878980e-02,\n",
              "        4.333300e-03, -6.261350e-02,  8.124480e-02, -1.771500e-02,\n",
              "        7.819050e-02,  8.429910e-02,  5.009080e-02,  4.001160e-02,\n",
              "       -2.779430e-02, -1.613100e-03,  1.137730e-02,  7.147100e-02,\n",
              "        3.390290e-02,  1.153000e-02,  9.162950e-02, -1.069010e-02,\n",
              "       -4.642560e-02, -5.192340e-02,  4.092780e-02, -6.200260e-02,\n",
              "        1.313360e-02, -1.802050e-02, -1.481340e-02,  1.044576e-01,\n",
              "        1.855500e-02,  2.901600e-02, -1.466072e-01,  2.351820e-02,\n",
              "       -3.084860e-02, -7.024930e-02, -4.489850e-02, -3.569700e-03,\n",
              "        5.283970e-02, -6.719500e-03, -3.420830e-02, -1.588240e-02,\n",
              "       -5.589400e-02, -7.208190e-02,  1.198820e-02,  4.153870e-02,\n",
              "       -1.519520e-02,  6.200260e-02, -1.947130e-02, -4.673110e-02,\n",
              "       -8.552090e-02, -5.772660e-02, -7.544160e-02, -5.406140e-02,\n",
              "       -7.941200e-03,  5.283970e-02,  5.894830e-02, -3.100130e-02,\n",
              "       -1.175910e-02,  9.468380e-02, -7.880140e-02, -8.307740e-02,\n",
              "       -1.878400e-02,  8.185570e-02, -6.811130e-02, -1.258379e-01,\n",
              "        5.650490e-02,  1.924220e-02, -4.092780e-02, -2.474000e-02,\n",
              "       -8.124480e-02,  1.817320e-02,  1.038468e-01,  1.496620e-02,\n",
              "       -4.001160e-02, -1.258379e-01,  2.092210e-02, -8.368830e-02,\n",
              "       -9.590550e-02, -1.555800e-03, -4.001160e-02, -4.276040e-02,\n",
              "       -1.756230e-02, -6.597320e-02, -9.354000e-04, -2.855790e-02,\n",
              "        6.795900e-03,  1.931860e-02,  8.613170e-02, -8.491000e-02,\n",
              "        4.917450e-02, -9.957070e-02, -2.214380e-02, -2.397640e-02,\n",
              "       -1.527160e-02,  3.741540e-02,  1.718050e-02,  5.345050e-02,\n",
              "       -4.153870e-02, -8.552090e-02,  4.978540e-02, -3.497190e-02,\n",
              "        1.233944e-01,  3.329210e-02, -1.099554e-01, -3.970610e-02,\n",
              "        2.481600e-03, -8.552090e-02,  1.221730e-02,  3.084860e-02,\n",
              "       -1.122460e-02, -6.528600e-03, -3.726270e-02,  3.145950e-02,\n",
              "       -6.963840e-02,  2.687800e-02,  1.443160e-02,  6.643100e-03,\n",
              "        2.687800e-02, -4.123330e-02, -5.803200e-02,  4.642560e-02,\n",
              "        5.100710e-02, -3.481920e-02,  7.712200e-03,  1.076650e-02,\n",
              "       -1.847860e-02,  4.673110e-02, -6.322440e-02,  5.612300e-03,\n",
              "        2.993230e-02, -5.772660e-02, -1.794410e-02,  4.062240e-02,\n",
              "       -7.208190e-02, -7.757960e-02,  8.704800e-03,  1.420260e-02,\n",
              "        3.894250e-02,  4.734190e-02,  1.397350e-02, -1.283000e-04,\n",
              "       -6.047550e-02, -2.916870e-02, -5.955920e-02, -3.951500e-03,\n",
              "       -6.230810e-02,  7.574710e-02,  9.040780e-02,  6.452200e-03],\n",
              "      dtype=float32)"
            ]
          },
          "metadata": {
            "tags": []
          },
          "execution_count": 3
        }
      ]
    },
    {
      "cell_type": "markdown",
      "metadata": {
        "id": "ZCZ5IxeTPei4"
      },
      "source": [
        "The `most_similar` function produces the terms that are most closely related to an input term.  This command allows us to compare the vector for \"depression\" and return the words with the most similiar vectors to it.  \n",
        "\n",
        "*Note:* the first time that you run the `most_similar` fuction, it will take several minutes to return the results.  Subsequent runs will be very fast."
      ]
    },
    {
      "cell_type": "code",
      "metadata": {
        "id": "WxF5oOu35Eii",
        "outputId": "92bd330f-ca8d-4fa1-90c1-ac3769c51f14",
        "colab": {
          "base_uri": "https://localhost:8080/",
          "height": 187
        }
      },
      "source": [
        "vectors.most_similar(\"depression\")"
      ],
      "execution_count": null,
      "outputs": [
        {
          "output_type": "execute_result",
          "data": {
            "text/plain": [
              "[('bipolar_disorder', 0.6819545),\n",
              " ('depression_anxiety', 0.66872203),\n",
              " ('depressive_illness', 0.66070294),\n",
              " ('mental_illness', 0.651359),\n",
              " ('psychosis', 0.6443453),\n",
              " ('alcoholism', 0.6437938),\n",
              " ('depressive', 0.64216655),\n",
              " ('depressive_illnesses', 0.6419422),\n",
              " ('bipolar_depression', 0.636595),\n",
              " ('bi_polar_disorder', 0.6346872)]"
            ]
          },
          "metadata": {
            "tags": []
          },
          "execution_count": 4
        }
      ]
    },
    {
      "cell_type": "markdown",
      "metadata": {
        "id": "gAQQdx5Zb8rw"
      },
      "source": [
        "Note that the word embeddings are case sensitive, so the words that are most similar to \"depression\" are different from the words that are most similar to \"Depression\" with a capital \"D\"."
      ]
    },
    {
      "cell_type": "code",
      "metadata": {
        "id": "zotKqHfscegQ",
        "outputId": "b6cc91fc-edd7-473c-f4e8-dcd6dd694a27",
        "colab": {
          "base_uri": "https://localhost:8080/",
          "height": 187
        }
      },
      "source": [
        "vectors.most_similar(\"Depression\")"
      ],
      "execution_count": null,
      "outputs": [
        {
          "output_type": "execute_result",
          "data": {
            "text/plain": [
              "[('Great_Depression', 0.77962846),\n",
              " ('Ethiopia_northeastern_Danakil', 0.6697289),\n",
              " ('depression', 0.6012101),\n",
              " ('Dirty_Thirties', 0.5962147),\n",
              " ('Great_Recession', 0.5895622),\n",
              " ('DBSA_Depression', 0.5803695),\n",
              " ('Porter_Novelli_cites', 0.56011915),\n",
              " ('recessions', 0.5447384),\n",
              " ('recession', 0.5386385),\n",
              " ('Depression_Era', 0.5332434)]"
            ]
          },
          "metadata": {
            "tags": []
          },
          "execution_count": 5
        }
      ]
    },
    {
      "cell_type": "markdown",
      "metadata": {
        "id": "7RKW59hJcoLV"
      },
      "source": [
        "Sometimes we would like to combine emebddings with different capitalizations.  We can do that by querying for the vectors corresponding to the different representations and adding them together. "
      ]
    },
    {
      "cell_type": "code",
      "metadata": {
        "id": "EFlK110pds40",
        "outputId": "78e36635-6148-4eab-818e-5bbcc6baa02f",
        "colab": {
          "base_uri": "https://localhost:8080/",
          "height": 187
        }
      },
      "source": [
        "vectors.most_similar(\"american\")"
      ],
      "execution_count": null,
      "outputs": [
        {
          "output_type": "execute_result",
          "data": {
            "text/plain": [
              "[('america', 0.71693563),\n",
              " ('americans', 0.687755),\n",
              " ('british', 0.673247),\n",
              " ('indian', 0.65994173),\n",
              " ('canadian', 0.6264657),\n",
              " ('chinese', 0.62197906),\n",
              " ('european', 0.6148863),\n",
              " ('mexican', 0.605409),\n",
              " ('african', 0.6037667),\n",
              " ('australian', 0.6006724)]"
            ]
          },
          "metadata": {
            "tags": []
          },
          "execution_count": 6
        }
      ]
    },
    {
      "cell_type": "code",
      "metadata": {
        "id": "H-c7z-FJdwCu",
        "outputId": "5956cd94-5181-411f-a198-21897ae9eb95",
        "colab": {
          "base_uri": "https://localhost:8080/",
          "height": 187
        }
      },
      "source": [
        "vectors.most_similar(\"American\")"
      ],
      "execution_count": null,
      "outputs": [
        {
          "output_type": "execute_result",
          "data": {
            "text/plain": [
              "[('Amercian', 0.6906012),\n",
              " ('America', 0.61163896),\n",
              " ('Amercan', 0.5610116),\n",
              " ('U.S.', 0.5309483),\n",
              " ('Amer_ican', 0.52779496),\n",
              " ('Americans', 0.5179345),\n",
              " ('African', 0.5149516),\n",
              " ('Ameican', 0.5099473),\n",
              " ('British', 0.5004252),\n",
              " ('Canadian', 0.48929805)]"
            ]
          },
          "metadata": {
            "tags": []
          },
          "execution_count": 7
        }
      ]
    },
    {
      "cell_type": "code",
      "metadata": {
        "id": "ToYAxMzfZMoT",
        "outputId": "339bf684-db52-448a-8575-566ba0f56100",
        "colab": {
          "base_uri": "https://localhost:8080/",
          "height": 527
        }
      },
      "source": [
        "combined = vectors.query(\"american\") + vectors.query(\"American\")\n",
        "vectors.most_similar(combined, topn=30)"
      ],
      "execution_count": null,
      "outputs": [
        {
          "output_type": "execute_result",
          "data": {
            "text/plain": [
              "[('american', 1.3909252),\n",
              " ('American', 1.3909249),\n",
              " ('Amercian', 1.1505314),\n",
              " ('AMerican', 0.91699636),\n",
              " ('America', 0.9093867),\n",
              " ('Amercan', 0.9083154),\n",
              " ('merican', 0.9080062),\n",
              " ('americans', 0.8944921),\n",
              " ('Ameican', 0.8656882),\n",
              " ('america', 0.8655412),\n",
              " ('british', 0.84471536),\n",
              " ('indian', 0.84199166),\n",
              " ('Amer_ican', 0.8375159),\n",
              " ('african', 0.83349156),\n",
              " ('U.S.', 0.8080087),\n",
              " ('Mexican', 0.7996613),\n",
              " ('mexican', 0.7853453),\n",
              " ('foriegn', 0.7769667),\n",
              " ('Amrican', 0.775609),\n",
              " ('chinese', 0.7715877),\n",
              " ('canadian', 0.7703197),\n",
              " ('AMERICAN', 0.7694178),\n",
              " ('Americans', 0.75568056),\n",
              " ('African', 0.75302863),\n",
              " ('Indian', 0.75009716),\n",
              " ('Canadian', 0.7476837),\n",
              " ('european', 0.74252397),\n",
              " ('Ameircan', 0.7368757),\n",
              " (\"America's\", 0.7330327),\n",
              " ('australian', 0.7276833)]"
            ]
          },
          "metadata": {
            "tags": []
          },
          "execution_count": 8
        }
      ]
    },
    {
      "cell_type": "markdown",
      "metadata": {
        "id": "S4xbv1kblQAs"
      },
      "source": [
        "## Primary Analysis of Word Embeddings: Complete The Analogy Questions (from Section 3 of our manuscript)\n",
        "\n",
        "Section 3.0 of the manuscript describes the use of anaology questions to assess the relationships between different terms in the vector space. \n",
        "\n",
        "In [Linguistic Regularities in Continuous Space Word Representations](https://www.aclweb.org/anthology/N13-1090.pdf) Mikolov et al showed that word embeddings are  surprisingly good at capturing semantic information in language.  [Ethayarajh](https://arxiv.org/pdf/1810.04882.pdf) et al. provide worked examples of these analogies through the common analogy of **‘King is to ___ as Man is to Woman’**. They performing vector arithmetic on representations of the words “King - Man + Woman”, they find a vector very close to “Queen.”\n",
        "\n",
        "In this form of analogy completion we use vector arithmetic to explore relationships. In analogy completion questions, we take two existing words with a defined relationship, and use this to generate a fourth word from a third word. The fourth word is produced by using the relationship between the other two words and applying it to the third word. \n",
        "\n",
        "[Ethayarajh](https://arxiv.org/pdf/1810.04882.pdf) demonstrate this in their paper by performing solving this analogy example with vector arithmetic:\n",
        "\n",
        "**‘King is to ___ as Man is to Woman’**\n",
        "\n",
        "**King (a), Queen (b), Man (x), Woman (y)**\n",
        "\n",
        "**b = a + y - x**\n",
        "\n",
        "**Queen = King + Woman - Man**\n",
        "\n",
        "For our paper we chose to solve for the fourth word in the anaology, so that it would be easier to interpret by our audience. In the example above this would be translated to **‘King is to Queen as Man is to ___’**.\n",
        "\n",
        "Solving for the fourth word is illustrated in [Finley's paper ](https://www.aclweb.org/anthology/S17-1001.pdf)that sets out analogies as a four word pattern of **w1:w2:w3:w4**.\n",
        "\n",
        "In the example above this would be translated to **‘King (w1) is to Queen (w2) as Man (w3) is to ___’**.\n",
        "\n",
        "The above equation of:\n",
        "\n",
        "**b = a + y - x**\n",
        "\n",
        "is the equiavlent of:\n",
        "\n",
        "**W2 = W1 + W4 - W3**\n",
        "\n",
        "Which we rearrange to:\n",
        "\n",
        "**W4 = W2 - W1 + W3**\n",
        "\n",
        "or equivalently\n",
        "\n",
        "**Woman (w4) = Queen (W2) - King (W1) + Man (W3).**\n",
        "\n",
        "Using this logic we can assess the relationships between different words in the text corpus for a variety of semantic relationships. As we can see from the W1-W4 representation above, **the W1 value is the only negative vector** which is important for the the programming functions used below.\n"
      ]
    },
    {
      "cell_type": "code",
      "metadata": {
        "id": "cb1E7ubthAcQ",
        "outputId": "727ef860-ccc6-469c-d44a-c3e531935b0d",
        "colab": {
          "base_uri": "https://localhost:8080/",
          "height": 187
        }
      },
      "source": [
        "# *Solving for W2 (as demonstrated in literature)*\n",
        "# The code below demonstrates the example from above formatted as a vector similarity function.\n",
        "\n",
        "## King (W1) is to Queen (W2), as Man (W3) is to Woman(W4)\n",
        "## Queen (W2) = King (W1) + Woman (W4) - Man (W3)\n",
        "## vectors.most_similar(negative = [\"W3\"], positive=[\"W1\", \"W2\"])\n",
        "vectors.most_similar(positive= [\"king\", \"woman\"], negative = [\"man\"])"
      ],
      "execution_count": null,
      "outputs": [
        {
          "output_type": "execute_result",
          "data": {
            "text/plain": [
              "[('queen', 0.71181935),\n",
              " ('monarch', 0.61896753),\n",
              " ('princess', 0.5902431),\n",
              " ('crown_prince', 0.5499462),\n",
              " ('prince', 0.5377322),\n",
              " ('kings', 0.5236845),\n",
              " ('Queen_Consort', 0.5235946),\n",
              " ('queens', 0.5181134),\n",
              " ('sultan', 0.5098594),\n",
              " ('monarchy', 0.50874126)]"
            ]
          },
          "metadata": {
            "tags": []
          },
          "execution_count": 9
        }
      ]
    },
    {
      "cell_type": "code",
      "metadata": {
        "id": "oQJyIh7uwr8n",
        "outputId": "7a235723-af2a-4937-c32e-ba350b98f8d9",
        "colab": {
          "base_uri": "https://localhost:8080/",
          "height": 187
        }
      },
      "source": [
        "# *Solving for W4 (as demonstrated in literature)*\n",
        "# The code below demonstrates the example from above formatted as a vector similarity function.\n",
        "\n",
        "## King (W1) is to Queen (W2), as Man (W3) is to ____ (W4)\n",
        "## Woman (W4) = Queen (W2) - King (W1) + Man (W3)\n",
        "## (W4) = vectors.most_similar(negative = [\"W1\"], positive=[\"W2\", \"W3\"])\n",
        "vectors.most_similar(positive= [\"queen\", \"man\"], negative = [\"king\"])"
      ],
      "execution_count": null,
      "outputs": [
        {
          "output_type": "execute_result",
          "data": {
            "text/plain": [
              "[('woman', 0.7609435),\n",
              " ('girl', 0.61399937),\n",
              " ('teenage_girl', 0.60409623),\n",
              " ('teenager', 0.5825759),\n",
              " ('lady', 0.5752554),\n",
              " ('boy', 0.50775766),\n",
              " ('policewoman', 0.5066848),\n",
              " ('schoolgirl', 0.50520957),\n",
              " ('blonde', 0.48696184),\n",
              " ('person', 0.48637533)]"
            ]
          },
          "metadata": {
            "tags": []
          },
          "execution_count": 10
        }
      ]
    },
    {
      "cell_type": "markdown",
      "metadata": {
        "id": "T0dmJxmcxNj8"
      },
      "source": [
        "Several academic papers have demonstrated that word embeddings can encode biases based on the data that they were trained on.  For instance, one paper demonstrated that *homemaker* is the nearest word for the analogy\n",
        "\n",
        "**man is to computer programmer as woman is to ___**"
      ]
    },
    {
      "cell_type": "code",
      "metadata": {
        "id": "dl5cFgY02Mhz",
        "outputId": "1cbe2236-ecac-4cf6-8fbe-436a527ca7ec",
        "colab": {
          "base_uri": "https://localhost:8080/",
          "height": 187
        }
      },
      "source": [
        "## Man (W1) is to Computer_Programmer (W2), as Woman (W3) is to (?W4)\n",
        "## (W4) = Woman (W3) + Computer_Programmer (W2) - Man (W1)\n",
        "## vectors.most_similar(negative = [\"W1\"], positive=[\"W3\", \"W2\"])\n",
        "\n",
        "vectors.most_similar(negative = [\"man\"], positive=[\"woman\", \"computer_programmer\"])"
      ],
      "execution_count": null,
      "outputs": [
        {
          "output_type": "execute_result",
          "data": {
            "text/plain": [
              "[('homemaker', 0.5627119),\n",
              " ('housewife', 0.5105047),\n",
              " ('graphic_designer', 0.50518024),\n",
              " ('schoolteacher', 0.49794948),\n",
              " ('businesswoman', 0.4934892),\n",
              " ('paralegal', 0.49255118),\n",
              " ('registered_nurse', 0.49079752),\n",
              " ('saleswoman', 0.48816282),\n",
              " ('electrical_engineer', 0.47977278),\n",
              " ('mechanical_engineer', 0.47553998)]"
            ]
          },
          "metadata": {
            "tags": []
          },
          "execution_count": 11
        }
      ]
    },
    {
      "cell_type": "markdown",
      "metadata": {
        "id": "C7eA6wPTn1Ws"
      },
      "source": [
        "### Example Analogies for Mental Health\n",
        "In our paper we use the \"W4 = W3 + W2 - W1\" to solve mental health analogies. This analogy question is \"american is to depression as irish is to ___\". This anaology question allows us to assess how nationality relates to the term depression in the text corpus.\n",
        "\n",
        "american (W1) : depression (W2) : irish (W3) : ? (W4)\n",
        "\n",
        "alcoholism (w4) = irish (W3) + depression (W2) - american (W1)\n",
        "\n",
        "After running the Vector Similarity function we can see that the most closely related term is \"alcoholism\". Each anaology was run with the identifiers capitalised and in lower case to test for consistency.\n"
      ]
    },
    {
      "cell_type": "code",
      "metadata": {
        "id": "SiQuQGmQ7pdz",
        "outputId": "b7cb8fde-3ebb-4733-fd38-153c7a9e793e",
        "colab": {
          "base_uri": "https://localhost:8080/",
          "height": 187
        }
      },
      "source": [
        "vectors.most_similar(positive= [\"irish\", \"depression\"], negative = [\"american\"])"
      ],
      "execution_count": null,
      "outputs": [
        {
          "output_type": "execute_result",
          "data": {
            "text/plain": [
              "[('alcoholism', 0.5461379),\n",
              " ('postnatal_depression', 0.5444151),\n",
              " ('depressive', 0.5295992),\n",
              " ('depressive_illness', 0.52782416),\n",
              " ('depression_anxiety', 0.521645),\n",
              " ('suicidal_thoughts', 0.49263188),\n",
              " ('post_natal_depression', 0.4862928),\n",
              " ('bi_polar_disorder', 0.48338714),\n",
              " ('mental_illness', 0.4827829),\n",
              " ('bipolar_disorder', 0.4794292)]"
            ]
          },
          "metadata": {
            "tags": []
          },
          "execution_count": 12
        }
      ]
    },
    {
      "cell_type": "markdown",
      "metadata": {
        "id": "4NjgTEmqYDDH"
      },
      "source": [
        "Note that words are treated as distinct if the contain different capitalization patterns.  Therefore \"american\" has a slightly different word embedding than \"American\".  We therefore run our analogies each twice.  Once with the lowercased form of the words and once with the uppercased form.\n",
        "\n",
        "American is to depression as Irish is to ___."
      ]
    },
    {
      "cell_type": "code",
      "metadata": {
        "id": "_v0S4ogNpe0j",
        "outputId": "cde15635-3d8d-4068-cf2d-e46b19fc50be",
        "colab": {
          "base_uri": "https://localhost:8080/",
          "height": 187
        }
      },
      "source": [
        "vectors.most_similar(positive= [\"Irish\", \"depression\"], negative = [\"American\"])"
      ],
      "execution_count": null,
      "outputs": [
        {
          "output_type": "execute_result",
          "data": {
            "text/plain": [
              "[('postnatal_depression', 0.52135277),\n",
              " ('depressive_illness', 0.5128124),\n",
              " ('post_natal_depression', 0.50578284),\n",
              " ('bi_polar_disorder', 0.49859726),\n",
              " ('alcoholism', 0.48676014),\n",
              " ('depressive', 0.48513865),\n",
              " ('bipolar_disorder', 0.46554077),\n",
              " ('psychosis', 0.46345896),\n",
              " ('depressive_illnesses', 0.4614476),\n",
              " ('depression_anxiety', 0.45526963)]"
            ]
          },
          "metadata": {
            "tags": []
          },
          "execution_count": 13
        }
      ]
    },
    {
      "cell_type": "code",
      "metadata": {
        "id": "WwI20KZMLfQb",
        "outputId": "1b094c6d-d36c-4a91-c9ed-6fe86dc33c4c",
        "colab": {
          "base_uri": "https://localhost:8080/",
          "height": 34
        }
      },
      "source": [
        "import numpy\n",
        "type(vectors.query(\"Irish\"))\n",
        "#irish = numpy.add(vectors.query(\"Irish\"), vectors.query(\"irish\"))\n",
        "#vectors.most_similar(positive= [irish, \"depression\"], negative = [\"American\"])"
      ],
      "execution_count": null,
      "outputs": [
        {
          "output_type": "execute_result",
          "data": {
            "text/plain": [
              "numpy.ndarray"
            ]
          },
          "metadata": {
            "tags": []
          },
          "execution_count": 14
        }
      ]
    },
    {
      "cell_type": "markdown",
      "metadata": {
        "id": "W3AJs2FpYlCM"
      },
      "source": [
        "white is to depression as black is to ___."
      ]
    },
    {
      "cell_type": "code",
      "metadata": {
        "id": "uiLKOKiS7shj",
        "outputId": "94ae25f2-1226-41a2-9b5e-a9dc9275814c",
        "colab": {
          "base_uri": "https://localhost:8080/",
          "height": 187
        }
      },
      "source": [
        "vectors.most_similar(positive= [\"black\", \"depression\"], negative = [\"white\"])"
      ],
      "execution_count": null,
      "outputs": [
        {
          "output_type": "execute_result",
          "data": {
            "text/plain": [
              "[('bipolar_disorder', 0.575513),\n",
              " ('undergone_electroshock_therapy', 0.57279444),\n",
              " ('depressive_illnesses', 0.5727794),\n",
              " ('alcoholism', 0.5702754),\n",
              " ('mental_illness', 0.5659473),\n",
              " ('depressive_illness', 0.5476651),\n",
              " ('drug_addiction', 0.5466375),\n",
              " ('suicidal_thoughts', 0.5451049),\n",
              " ('depressive', 0.54290795),\n",
              " ('depression_anxiety', 0.53830874)]"
            ]
          },
          "metadata": {
            "tags": []
          },
          "execution_count": 15
        }
      ]
    },
    {
      "cell_type": "markdown",
      "metadata": {
        "id": "9SvIqwQ-Yyhc"
      },
      "source": [
        "White is to depression as Black is to ___."
      ]
    },
    {
      "cell_type": "code",
      "metadata": {
        "id": "2XA6IXLOp-ir",
        "outputId": "ba17907f-9cea-48fb-8244-dbbf2fe28cac",
        "colab": {
          "base_uri": "https://localhost:8080/",
          "height": 187
        }
      },
      "source": [
        "vectors.most_similar(positive= [\"Black\", \"depression\"], negative = [\"White\"])"
      ],
      "execution_count": null,
      "outputs": [
        {
          "output_type": "execute_result",
          "data": {
            "text/plain": [
              "[('depression_anxiety', 0.5361699),\n",
              " ('bipolar_disorder', 0.5241641),\n",
              " ('Depression', 0.52308846),\n",
              " ('depressive_illnesses', 0.5212689),\n",
              " ('depressive', 0.519984),\n",
              " ('mental_illness', 0.51275235),\n",
              " ('psychosis', 0.50774145),\n",
              " ('post_partum_depression', 0.5032788),\n",
              " ('clinically_depressed', 0.4985034),\n",
              " ('Anxiety_disorders', 0.4947802)]"
            ]
          },
          "metadata": {
            "tags": []
          },
          "execution_count": 16
        }
      ]
    },
    {
      "cell_type": "markdown",
      "metadata": {
        "id": "bERYGabFY04V"
      },
      "source": [
        "woman is to depression as man is to ___."
      ]
    },
    {
      "cell_type": "code",
      "metadata": {
        "id": "l-PrKaHc-Z44",
        "outputId": "fa39f0ac-72c7-464c-93de-5cdc91a94b3a",
        "colab": {
          "base_uri": "https://localhost:8080/",
          "height": 187
        }
      },
      "source": [
        "vectors.most_similar(positive= [\"man\", \"depression\"], negative = [\"woman\"])"
      ],
      "execution_count": null,
      "outputs": [
        {
          "output_type": "execute_result",
          "data": {
            "text/plain": [
              "[('bipolar_disorder', 0.5726503),\n",
              " ('psychosis', 0.551441),\n",
              " ('depressive', 0.5455339),\n",
              " ('mental_illness', 0.5443847),\n",
              " ('schizophrenia', 0.53977585),\n",
              " ('bi_polar_disorder', 0.5357376),\n",
              " ('alcoholism', 0.5296215),\n",
              " ('manic_depression', 0.5240445),\n",
              " ('depressive_illnesses', 0.5219597),\n",
              " ('depressive_illness', 0.51701397)]"
            ]
          },
          "metadata": {
            "tags": []
          },
          "execution_count": 17
        }
      ]
    },
    {
      "cell_type": "markdown",
      "metadata": {
        "id": "47CO58cSY-7M"
      },
      "source": [
        "Woman is to depression as Man is to ___."
      ]
    },
    {
      "cell_type": "code",
      "metadata": {
        "id": "-7KsHPaOqKiu",
        "outputId": "4c3a6ba0-0773-472c-d2cd-8b92f682fd68",
        "colab": {
          "base_uri": "https://localhost:8080/",
          "height": 187
        }
      },
      "source": [
        "vectors.most_similar(positive= [\"Man\", \"depression\"], negative = [\"Woman\"])"
      ],
      "execution_count": null,
      "outputs": [
        {
          "output_type": "execute_result",
          "data": {
            "text/plain": [
              "[('schizophrenia', 0.5406401),\n",
              " ('bipolar_disorder', 0.53682524),\n",
              " ('depressive_illness', 0.52825475),\n",
              " ('mental_illness', 0.5246678),\n",
              " ('psychosis', 0.5208434),\n",
              " ('manic_depression', 0.5115806),\n",
              " ('bi_polar_disorder', 0.5112307),\n",
              " ('depressive', 0.5078962),\n",
              " ('psychotic_disorders', 0.5041095),\n",
              " ('psychiatric_disorders', 0.50130355)]"
            ]
          },
          "metadata": {
            "tags": []
          },
          "execution_count": 18
        }
      ]
    },
    {
      "cell_type": "markdown",
      "metadata": {
        "id": "FQOkGitKfjkz"
      },
      "source": [
        "man is to depression as woman is to ___."
      ]
    },
    {
      "cell_type": "code",
      "metadata": {
        "id": "bBR_PNJXfXMV",
        "outputId": "d5848281-9baa-4b71-ae0c-4cf76c09c733",
        "colab": {
          "base_uri": "https://localhost:8080/",
          "height": 187
        }
      },
      "source": [
        "vectors.most_similar(positive= [\"woman\", \"depression\"], negative = [\"man\"])"
      ],
      "execution_count": null,
      "outputs": [
        {
          "output_type": "execute_result",
          "data": {
            "text/plain": [
              "[('postnatal_depression', 0.5894734),\n",
              " ('depression_anxiety', 0.5884525),\n",
              " ('psychological_distress', 0.5851127),\n",
              " ('post_partum_depression', 0.58415496),\n",
              " ('perinatal_depression', 0.582622),\n",
              " ('post_natal_depression', 0.58256066),\n",
              " ('postpartum_depression', 0.5806654),\n",
              " ('depressive_illness', 0.5726578),\n",
              " ('postpartum_mood', 0.565782),\n",
              " ('premenstrual_symptoms', 0.5643016)]"
            ]
          },
          "metadata": {
            "tags": []
          },
          "execution_count": 19
        }
      ]
    },
    {
      "cell_type": "markdown",
      "metadata": {
        "id": "lH7bMjF9tMyn"
      },
      "source": [
        "Man is to depression as woman is to ___."
      ]
    },
    {
      "cell_type": "code",
      "metadata": {
        "id": "4qEXOlm5tQfy",
        "outputId": "4430500e-7e22-4eaf-aac6-3fe38e87aa52",
        "colab": {
          "base_uri": "https://localhost:8080/",
          "height": 187
        }
      },
      "source": [
        "vectors.most_similar(positive= [\"Woman\", \"depression\"], negative = [\"Man\"])"
      ],
      "execution_count": null,
      "outputs": [
        {
          "output_type": "execute_result",
          "data": {
            "text/plain": [
              "[('depression_anxiety', 0.5962874),\n",
              " ('perinatal_depression', 0.5500587),\n",
              " ('postpartum_depression', 0.5446534),\n",
              " ('post_partum_depression', 0.5435163),\n",
              " ('bipolar_disorder', 0.53739357),\n",
              " ('postpartum_mood', 0.53321767),\n",
              " ('suicide_ideation', 0.52942914),\n",
              " ('bipolar_depression', 0.52830637),\n",
              " ('post_natal_depression', 0.5234108),\n",
              " ('postnatal_depression', 0.5233458)]"
            ]
          },
          "metadata": {
            "tags": []
          },
          "execution_count": 20
        }
      ]
    },
    {
      "cell_type": "markdown",
      "metadata": {
        "id": "Am8bVbUwZCgb"
      },
      "source": [
        "christianity is to depression as judaism is to ___."
      ]
    },
    {
      "cell_type": "code",
      "metadata": {
        "id": "IJAwbfg2uX5G",
        "outputId": "73066ea7-8693-4bf7-dece-45b283849a70",
        "colab": {
          "base_uri": "https://localhost:8080/",
          "height": 187
        }
      },
      "source": [
        "vectors.most_similar(positive = [\"judaism\", \"depression\"], negative = [\"christianity\"])"
      ],
      "execution_count": null,
      "outputs": [
        {
          "output_type": "execute_result",
          "data": {
            "text/plain": [
              "[('depressive_episodes', 0.5100412),\n",
              " ('depressive', 0.48710367),\n",
              " ('dysthymia', 0.47149944),\n",
              " ('depression_anxiety', 0.4653486),\n",
              " ('depressive_episode', 0.46419936),\n",
              " ('depressive_symptoms', 0.46164304),\n",
              " ('suicidal_ideation', 0.45402974),\n",
              " ('insomnia', 0.4529212),\n",
              " ('suicidal_thoughts', 0.44783857),\n",
              " ('anxiety_disorders', 0.44326317)]"
            ]
          },
          "metadata": {
            "tags": []
          },
          "execution_count": 21
        }
      ]
    },
    {
      "cell_type": "markdown",
      "metadata": {
        "id": "Oeq94wLJZIz5"
      },
      "source": [
        "Christianity is to depression as Judaism is to ___."
      ]
    },
    {
      "cell_type": "code",
      "metadata": {
        "id": "TFqKJ2Tlqf4s",
        "outputId": "7c4116bc-5d83-40eb-bcf9-47e787d88d47",
        "colab": {
          "base_uri": "https://localhost:8080/",
          "height": 187
        }
      },
      "source": [
        "vectors.most_similar(positive = [\"Judaism\", \"depression\"], negative = \"Christianity\")"
      ],
      "execution_count": null,
      "outputs": [
        {
          "output_type": "execute_result",
          "data": {
            "text/plain": [
              "[('depressive_episodes', 0.5406216),\n",
              " ('depressive', 0.53402555),\n",
              " ('anxiety_disorders', 0.5205387),\n",
              " ('depression_anxiety', 0.51963764),\n",
              " ('bipolar_disorder', 0.5165736),\n",
              " ('depressive_episode', 0.51036996),\n",
              " ('suicidal_thoughts', 0.5013385),\n",
              " ('depressive_symptoms', 0.50004286),\n",
              " ('obsessive_compulsive_disorder', 0.49898523),\n",
              " ('dysthymia', 0.49615005)]"
            ]
          },
          "metadata": {
            "tags": []
          },
          "execution_count": 22
        }
      ]
    },
    {
      "cell_type": "code",
      "metadata": {
        "id": "kbSIqaH5DsHd",
        "outputId": "0a6125cc-8acb-421e-967f-960748ffda19",
        "colab": {
          "base_uri": "https://localhost:8080/",
          "height": 187
        }
      },
      "source": [
        "vectors.most_similar(positive = [\"\", \"president\"], negative = \"Trump\")"
      ],
      "execution_count": null,
      "outputs": [
        {
          "output_type": "execute_result",
          "data": {
            "text/plain": [
              "[('President', 0.4142558),\n",
              " ('vice_president', 0.41087392),\n",
              " ('CEO', 0.38019642),\n",
              " ('vicepresident', 0.37561402),\n",
              " ('chairman', 0.36807263),\n",
              " ('Vice_President', 0.36618352),\n",
              " ('chief_executive', 0.36214152),\n",
              " ('COO', 0.35154957),\n",
              " ('executive', 0.34414607),\n",
              " ('Executive_Director', 0.33531237)]"
            ]
          },
          "metadata": {
            "tags": []
          },
          "execution_count": 23
        }
      ]
    },
    {
      "cell_type": "markdown",
      "metadata": {
        "id": "qMM5VOiqZmcf"
      },
      "source": [
        "grandparent is to depression as teenager is to ___."
      ]
    },
    {
      "cell_type": "code",
      "metadata": {
        "id": "6gmM1Hnx0g-c",
        "outputId": "0702a86f-ea27-41fb-c6fe-b277cbc11555",
        "colab": {
          "base_uri": "https://localhost:8080/",
          "height": 187
        }
      },
      "source": [
        "vectors.most_similar(positive = [\"teenager\", \"depression\"], negative = [\"grandparent\"])"
      ],
      "execution_count": null,
      "outputs": [
        {
          "output_type": "execute_result",
          "data": {
            "text/plain": [
              "[('drug_addiction', 0.48988903),\n",
              " ('undergone_electroshock_therapy', 0.48890823),\n",
              " ('suicidal_thoughts', 0.48240173),\n",
              " ('bi_polar_disorder', 0.47964758),\n",
              " ('anti_depressants', 0.47008085),\n",
              " ('drug_induced_psychosis', 0.47007346),\n",
              " ('prescribed_anti_depressants', 0.4682515),\n",
              " ('bulimia', 0.46296293),\n",
              " ('heroin_addiction', 0.46258748),\n",
              " ('alcoholism', 0.45949787)]"
            ]
          },
          "metadata": {
            "tags": []
          },
          "execution_count": 24
        }
      ]
    },
    {
      "cell_type": "code",
      "metadata": {
        "id": "rPawGseOq2CE",
        "outputId": "62dffb96-8843-44b2-abf5-9f0051d18ccb",
        "colab": {
          "base_uri": "https://localhost:8080/",
          "height": 187
        }
      },
      "source": [
        "vectors.most_similar(positive = [\"Teenager\", \"depression\"], negative = [\"Grandparent\"])"
      ],
      "execution_count": null,
      "outputs": [
        {
          "output_type": "execute_result",
          "data": {
            "text/plain": [
              "[('alcoholism', 0.4713344),\n",
              " ('serotonin_imbalance', 0.46098262),\n",
              " ('bipolar_disorder', 0.4548468),\n",
              " ('bipolar_mood_swings', 0.45171013),\n",
              " ('schizophrenic_tendencies', 0.4473232),\n",
              " ('heroin_addiction', 0.44686314),\n",
              " ('undergone_electroshock_therapy', 0.4424379),\n",
              " ('paranoia_hallucinations', 0.4410591),\n",
              " ('cocaine_addiction', 0.43735787),\n",
              " ('bi_polar_disorder', 0.43289676)]"
            ]
          },
          "metadata": {
            "tags": []
          },
          "execution_count": 25
        }
      ]
    },
    {
      "cell_type": "markdown",
      "metadata": {
        "id": "rLuzi43kvYC5"
      },
      "source": [
        "## Closest mental health conditions per race, nationality, gender"
      ]
    },
    {
      "cell_type": "code",
      "metadata": {
        "id": "43TJ3ba-viGu",
        "outputId": "ad178086-4e6c-4594-a852-0fe435cd8c1e",
        "colab": {
          "base_uri": "https://localhost:8080/",
          "height": 323
        }
      },
      "source": [
        "conditions = ['ADHD',\n",
        "              'alcoholism', \n",
        "              'anxiety_disorders',\n",
        "              'bi_polar_disorder',\n",
        "              'bipolar',\n",
        "              'bipolar_disorder',\n",
        "              'bipolar_depression',\n",
        "              'borderline_personality_disorder',\n",
        "              'compulsive_hoarding',\n",
        "              'depression',\n",
        "              'depression_anxiety',\n",
        "              'depressive_illness',\n",
        "              'drug_addiction', \n",
        "              'obsessive_compulsive',\n",
        "              'obsessive_compulsive_disorder',\n",
        "              'OCD',\n",
        "              'psychosis',\n",
        "              'schizophrenia',\n",
        "              'schizoaffective_disorder',\n",
        "              'substance_abuse',\n",
        "              ]\n",
        "\n",
        "groups = ['women', \n",
        "          'men',\n",
        "          'American',\n",
        "          'British',\n",
        "          'Irish',\n",
        "          'French',\n",
        "          'German',\n",
        "          'Italian',\n",
        "          'Chinese',\n",
        "          'Korean',\n",
        "          'Japanese',\n",
        "          'White',\n",
        "          'Black',\n",
        "          'Hispanic',\n",
        "          'Latino',\n",
        "          'Latina',\n",
        "          'Latinx',\n",
        "          'Native_American',\n",
        "          ]\n",
        "\n",
        "for group in groups:\n",
        "  most_similar_condition = vectors.most_similar_to_given(group, conditions)\n",
        "  similarity = vectors.similarity(group, most_similar_condition)\n",
        "  print(group, '\\t', most_similar_condition, '\\t', similarity)"
      ],
      "execution_count": null,
      "outputs": [
        {
          "output_type": "stream",
          "text": [
            "women \t depression_anxiety \t 0.22087288\n",
            "men \t depression_anxiety \t 0.17464004\n",
            "American \t obsessive_compulsive \t 0.07114809\n",
            "British \t obsessive_compulsive \t 0.1300756\n",
            "Irish \t alcoholism \t 0.14398772\n",
            "French \t obsessive_compulsive \t 0.07115477\n",
            "German \t obsessive_compulsive \t 0.07460512\n",
            "Italian \t obsessive_compulsive \t 0.103272386\n",
            "Chinese \t obsessive_compulsive \t 0.13045943\n",
            "Korean \t obsessive_compulsive \t 0.0817107\n",
            "Japanese \t obsessive_compulsive \t 0.14124213\n",
            "White \t alcoholism \t 0.11180493\n",
            "Black \t bipolar_disorder \t 0.12816364\n",
            "Hispanic \t ADHD \t 0.17809318\n",
            "Latino \t substance_abuse \t 0.22431692\n",
            "Latina \t substance_abuse \t 0.13929905\n",
            "Latinx \t bipolar \t 0.1323255114700685\n",
            "Native_American \t substance_abuse \t 0.2724196\n"
          ],
          "name": "stdout"
        }
      ]
    },
    {
      "cell_type": "code",
      "metadata": {
        "id": "mF9RjtMsy2rH",
        "outputId": "411010d8-4187-4f4d-8fa8-9c75c7434ccc",
        "colab": {
          "base_uri": "https://localhost:8080/",
          "height": 357
        }
      },
      "source": [
        "for condition in conditions:\n",
        "  most_similar_condition = vectors.most_similar_to_given(condition, groups)\n",
        "  similarity = vectors.similarity(most_similar_condition, condition)\n",
        "  print(condition, '\\t', most_similar_condition, '\\t', similarity)"
      ],
      "execution_count": null,
      "outputs": [
        {
          "output_type": "stream",
          "text": [
            "ADHD \t Hispanic \t 0.17809318\n",
            "alcoholism \t Native_American \t 0.23115887\n",
            "anxiety_disorders \t women \t 0.16952287\n",
            "bi_polar_disorder \t Native_American \t 0.12997688\n",
            "bipolar \t Latinx \t 0.1323255114700685\n",
            "bipolar_disorder \t Latino \t 0.1676898\n",
            "bipolar_depression \t Latinx \t 0.11952584521005649\n",
            "borderline_personality_disorder \t Latina \t 0.11364871\n",
            "compulsive_hoarding \t women \t 0.1976003\n",
            "depression \t women \t 0.17258127\n",
            "depression_anxiety \t women \t 0.22087288\n",
            "depressive_illness \t women \t 0.16232699\n",
            "drug_addiction \t women \t 0.13126868\n",
            "obsessive_compulsive \t Japanese \t 0.14124213\n",
            "obsessive_compulsive_disorder \t Latinx \t 0.07229641507144426\n",
            "OCD \t Latina \t 0.12279819\n",
            "psychosis \t Latino \t 0.096157044\n",
            "schizophrenia \t Native_American \t 0.13904592\n",
            "schizoaffective_disorder \t Latinx \t 0.12533044874915625\n",
            "substance_abuse \t Native_American \t 0.2724196\n"
          ],
          "name": "stdout"
        }
      ]
    },
    {
      "cell_type": "code",
      "metadata": {
        "id": "Ul_ci8OhzBmx",
        "outputId": "488e6abd-906f-4367-8c6c-787240e283ed",
        "colab": {
          "base_uri": "https://localhost:8080/",
          "height": 391
        }
      },
      "source": [
        "genders = ['woman', \n",
        "          'Woman',\n",
        "          'man',\n",
        "          'Man',\n",
        "          'trans',\n",
        "          'Trans',\n",
        "          'trans_gender',\n",
        "          'Trans_gender',\n",
        "          'trans_man',\n",
        "          'Trans_man',\n",
        "          'Trans_woman',\n",
        "          'trans_woman',\n",
        "          'Cis_gender',\n",
        "          'cis_gender',\n",
        "          'Cis_man',\n",
        "          'cis_man',\n",
        "          'Cis_woman',\n",
        "          'cis_woman',\n",
        "          'Queer',\n",
        "          'queer',\n",
        "          'gender_fluid',\n",
        "          'Gender_fluid',\n",
        "          ]\n",
        "\n",
        "for gender in genders:\n",
        "  most_similar_condition = vectors.most_similar_to_given(gender, conditions)\n",
        "  similarity = vectors.similarity(gender, most_similar_condition)\n",
        "  print(gender, '\\t', most_similar_condition, '\\t', similarity)"
      ],
      "execution_count": null,
      "outputs": [
        {
          "output_type": "stream",
          "text": [
            "woman \t bi_polar_disorder \t 0.22655013\n",
            "Woman \t alcoholism \t 0.098164104\n",
            "man \t bi_polar_disorder \t 0.21892086\n",
            "Man \t bi_polar_disorder \t 0.11507569\n",
            "trans \t bipolar \t 0.19683634\n",
            "Trans \t bipolar \t 0.046354793\n",
            "trans_gender \t depression_anxiety \t 0.2781979201311534\n",
            "Trans_gender \t anxiety_disorders \t 0.2752295176079848\n",
            "trans_man \t bipolar \t 0.17224659010013066\n",
            "Trans_man \t bipolar \t 0.1741798979632569\n",
            "Trans_woman \t bi_polar_disorder \t 0.1897492319931894\n",
            "trans_woman \t bi_polar_disorder \t 0.19466578187525346\n",
            "Cis_gender \t substance_abuse \t 0.22066903660170184\n",
            "cis_gender \t substance_abuse \t 0.20224942430812756\n",
            "Cis_man \t bi_polar_disorder \t 0.16621426182209487\n",
            "cis_man \t bi_polar_disorder \t 0.17722363829169785\n",
            "Cis_woman \t bi_polar_disorder \t 0.2158167135460853\n",
            "cis_woman \t bi_polar_disorder \t 0.22083114327029132\n",
            "Queer \t substance_abuse \t 0.20108144\n",
            "queer \t substance_abuse \t 0.22167422\n",
            "gender_fluid \t OCD \t 0.11481549098699863\n",
            "Gender_fluid \t obsessive_compulsive \t 0.11202571746562336\n"
          ],
          "name": "stdout"
        }
      ]
    },
    {
      "cell_type": "code",
      "metadata": {
        "id": "JUHrrMZr8w6o",
        "outputId": "498cd75b-8308-4d5d-8a91-ead290bdca97",
        "colab": {
          "base_uri": "https://localhost:8080/",
          "height": 547
        }
      },
      "source": [
        "#Nb. racial terms taken from the U.S Census Bureau\n",
        "racialgroups = ['White',\n",
        "                'white',\n",
        "                'Black',\n",
        "                'black',\n",
        "                'African_american',\n",
        "                'african_american',\n",
        "                'Asian',\n",
        "                'asian',\n",
        "                'Asian_american',\n",
        "                'asian_american',\n",
        "                'Hispanic',\n",
        "                'hispanic',\n",
        "                'Latino',\n",
        "                'latino',\n",
        "                'Latina',\n",
        "                'latina',\n",
        "                'Latinx',\n",
        "                'latinx',\n",
        "                'Native_American',\n",
        "                'native_american',\n",
        "                'Alaska_native',\n",
        "                'alaska_native',\n",
        "                'American_indian',\n",
        "                'american_indian',\n",
        "                'Native_hawaiian',\n",
        "                'native_hawaiian',\n",
        "                'mixed_race',\n",
        "                'Mixed_Race',\n",
        "                'immigrant',\n",
        "                'Immigrant',\n",
        "          ]\n",
        "\n",
        "for race in racialgroups:\n",
        "  most_similar_condition = vectors.most_similar_to_given(race, conditions)\n",
        "  similarity = vectors.similarity(race, most_similar_condition)\n",
        "  print(race, '\\t', most_similar_condition, '\\t', similarity)"
      ],
      "execution_count": null,
      "outputs": [
        {
          "output_type": "stream",
          "text": [
            "White \t alcoholism \t 0.11180493\n",
            "white \t bipolar \t 0.13425268\n",
            "Black \t bipolar_disorder \t 0.12816364\n",
            "black \t depression \t 0.10939623\n",
            "African_american \t schizoaffective_disorder \t 0.18183811846394987\n",
            "african_american \t schizoaffective_disorder \t 0.15189256\n",
            "Asian \t compulsive_hoarding \t 0.0947723\n",
            "asian \t bipolar \t 0.09038742\n",
            "Asian_american \t schizoaffective_disorder \t 0.2049811797124803\n",
            "asian_american \t compulsive_hoarding \t 0.2393745\n",
            "Hispanic \t ADHD \t 0.17809318\n",
            "hispanic \t schizophrenia \t 0.1953911\n",
            "Latino \t substance_abuse \t 0.22431692\n",
            "latino \t substance_abuse \t 0.1193446\n",
            "Latina \t substance_abuse \t 0.13929905\n",
            "latina \t drug_addiction \t 0.13396908\n",
            "Latinx \t bipolar \t 0.1323255114700685\n",
            "latinx \t OCD \t 0.10813369328089455\n",
            "Native_American \t substance_abuse \t 0.2724196\n",
            "native_american \t substance_abuse \t 0.203145473325913\n",
            "Alaska_native \t alcoholism \t 0.1351516113023791\n",
            "alaska_native \t alcoholism \t 0.14065436330714878\n",
            "American_indian \t bi_polar_disorder \t 0.15886263674605441\n",
            "american_indian \t obsessive_compulsive \t 0.08196656\n",
            "Native_hawaiian \t compulsive_hoarding \t 0.19275749317268512\n",
            "native_hawaiian \t compulsive_hoarding \t 0.17880774778333386\n",
            "mixed_race \t substance_abuse \t 0.06602427985508251\n",
            "Mixed_Race \t substance_abuse \t 0.08511959641615371\n",
            "immigrant \t schizophrenia \t 0.1812938\n",
            "Immigrant \t schizophrenia \t 0.15174332\n"
          ],
          "name": "stdout"
        }
      ]
    },
    {
      "cell_type": "code",
      "metadata": {
        "id": "_Y6Tj6x49t6I",
        "outputId": "1a6fab5f-a0c6-4876-b2f1-c8df580a3549",
        "colab": {
          "base_uri": "https://localhost:8080/",
          "height": 615
        }
      },
      "source": [
        "# Labels taken from USA Census: https://www.census.gov/mso/www/training/pdf/ancestry-flyer.pdf\n",
        "ethinicities = ['German',\n",
        "                'german',\n",
        "                'Irish',\n",
        "                'irish',\n",
        "                'African_american',\n",
        "                'african_american',\n",
        "                'English',\n",
        "                'english',\n",
        "                'American',\n",
        "                'american',\n",
        "                'Mexican',\n",
        "                'mexican',\n",
        "                'Italian',\n",
        "                'italian',\n",
        "                'Polish',\n",
        "                'polish',\n",
        "                'French',\n",
        "                'french',\n",
        "                'Scottish',\n",
        "                'scottish',\n",
        "                'Dutch',\n",
        "                'dutch',\n",
        "                'American_indian',\n",
        "                'american_indian',\n",
        "                'Norwegian',\n",
        "                'norwegian',\n",
        "                'Swedish',\n",
        "                'swedish',\n",
        "                'asian_american',\n",
        "                'Asian_american',\n",
        "                'Chinese',\n",
        "                'chinese',\n",
        "                'Japanese',\n",
        "                'japanese',\n",
        "          ]\n",
        "\n",
        "for ethinicity in ethinicities:\n",
        "  most_similar_condition = vectors.most_similar_to_given(ethinicity, conditions)\n",
        "  similarity = vectors.similarity(ethinicity, most_similar_condition)\n",
        "  print(ethinicity, '\\t', most_similar_condition, '\\t', similarity)"
      ],
      "execution_count": null,
      "outputs": [
        {
          "output_type": "stream",
          "text": [
            "German \t obsessive_compulsive \t 0.07460512\n",
            "german \t schizoaffective_disorder \t 0.073808365\n",
            "Irish \t alcoholism \t 0.14398772\n",
            "irish \t alcoholism \t 0.1620542\n",
            "African_american \t schizoaffective_disorder \t 0.18183811846394987\n",
            "african_american \t schizoaffective_disorder \t 0.15189256\n",
            "English \t schizoaffective_disorder \t 0.12912744\n",
            "english \t ADHD \t 0.12953144\n",
            "American \t obsessive_compulsive \t 0.07114809\n",
            "american \t obsessive_compulsive \t 0.102571614\n",
            "Mexican \t substance_abuse \t 0.06820515\n",
            "mexican \t psychosis \t 0.08351047\n",
            "Italian \t obsessive_compulsive \t 0.103272386\n",
            "italian \t obsessive_compulsive \t 0.09317596\n",
            "Polish \t alcoholism \t 0.098870605\n",
            "polish \t obsessive_compulsive \t 0.118472815\n",
            "French \t obsessive_compulsive \t 0.07115477\n",
            "french \t obsessive_compulsive \t 0.05167626\n",
            "Scottish \t depressive_illness \t 0.14570326\n",
            "scottish \t obsessive_compulsive \t 0.12930235\n",
            "Dutch \t ADHD \t 0.07621549\n",
            "dutch \t schizoaffective_disorder \t 0.07133111\n",
            "American_indian \t bi_polar_disorder \t 0.15886263674605441\n",
            "american_indian \t obsessive_compulsive \t 0.08196656\n",
            "Norwegian \t obsessive_compulsive \t 0.091898054\n",
            "norwegian \t obsessive_compulsive \t 0.07386051\n",
            "Swedish \t obsessive_compulsive \t 0.097821005\n",
            "swedish \t obsessive_compulsive \t 0.12133294\n",
            "asian_american \t compulsive_hoarding \t 0.2393745\n",
            "Asian_american \t schizoaffective_disorder \t 0.2049811797124803\n",
            "Chinese \t obsessive_compulsive \t 0.13045943\n",
            "chinese \t obsessive_compulsive \t 0.14026293\n",
            "Japanese \t obsessive_compulsive \t 0.14124213\n",
            "japanese \t obsessive_compulsive \t 0.13991846\n"
          ],
          "name": "stdout"
        }
      ]
    },
    {
      "cell_type": "code",
      "metadata": {
        "id": "GN-kFvZECoaS"
      },
      "source": [
        ""
      ],
      "execution_count": null,
      "outputs": []
    }
  ]
}